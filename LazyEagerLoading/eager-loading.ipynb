{
  "cells": [
    {
      "cell_type": "markdown",
      "metadata": {},
      "source": [
        "# Eager Loading\n",
        "## What is it?\n",
        "Eager loading is the action of loading all of the resources in a program, before actually needing it.\n",
        "\n",
        "## Examples\n",
        "#### Back-end projects\n",
        "It may sound obvious, but a backend project almost always needs all of the resources (assemblies, for example) in order to execute properly.\n",
        "\n",
        "#### Front-end projects\n",
        "Eager loading practice in a front-end project could be loading all of the assets, even though they are not used in the current web page.\n",
        ""
      ]
    },
    {
      "cell_type": "markdown",
      "metadata": {},
      "source": [
        "## Why and when should I use it?\n",
        "* 3rd party interactions - you can improve performance by querying database once with the full set of data required, instead of multiple small queries containing parts of it.\n",
        "\n",
        "* Lightweight resource loading - loading all of the resources of a lightweight program can ensure your assets are always at your disposal."
      ]
    }
  ],
  "metadata": {
    "kernelspec": {
      "display_name": ".NET (C#)",
      "language": "C#",
      "name": ".net-csharp"
    },
    "language_info": {
      "file_extension": ".cs",
      "mimetype": "text/x-csharp",
      "name": "C#",
      "pygments_lexer": "csharp",
      "version": "8.0"
    }
  },
  "nbformat": 4,
  "nbformat_minor": 4
}