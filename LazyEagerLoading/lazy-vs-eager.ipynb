{
  "cells": [
    {
      "cell_type": "markdown",
      "metadata": {},
      "source": [
        "# Lazy Vs. Eager Loading\n",
        "## Example code demonstrating the practice of these approaches:\n",
        "\n",
        "Say we want to make a code that randomly generates a number when the user of the program interacts with it.\n",
        "If the generated number is a multiple of 13 - then present to the user a list of strings."
      ]
    },
    {
      "cell_type": "markdown",
      "metadata": {},
      "source": [
        "Say we have this  methods to interact with the user:"
      ]
    },
    {
      "cell_type": "code",
      "execution_count": 1,
      "metadata": {
        "dotnet_interactive": {
          "language": "csharp"
        }
      },
      "source": [
        "private static readonly bool _isEager = false;\n",
        "private static List<string> _Data;\n",
        "private static readonly Random _random = new Random(15);\n",
        "\n",
        "private static List<string> CreateData()\n",
        "{\n",
        "    Console.ForegroundColor = ConsoleColor.Green;\n",
        "    Console.WriteLine(\"Created the data!\");\n",
        "    Console.ForegroundColor = ConsoleColor.Gray;\n",
        "\n",
        "    return new List<string>()\n",
        "    {\n",
        "        \"This is message a\",\n",
        "        \"This is message b\",\n",
        "        \"This is message c\",\n",
        "        \"This is message d\",\n",
        "    };\n",
        "}\n",
        "\n",
        "private static void PrintData(int number)\n",
        "{\n",
        "\tif (IsMultipleOf13(number))\n",
        "\t{\n",
        "\t\tforeach (string s in _Data)\n",
        "\t\t{\n",
        "\t\t\tConsole.WriteLine(s);\n",
        "\t\t}\n",
        "\t}\n",
        "\telse\n",
        "\t{\n",
        "\t\tConsole.WriteLine($\"{number} is not a multiple of 13\");\n",
        "\t}\n",
        "}\n",
        "\n",
        "private static int RandomizeNumber()\n",
        "{\n",
        "    int randomNumber = _random.Next(14, 200);\n",
        "    Console.WriteLine($\"Randomly generated {randomNumber}\");\n",
        "\n",
        "\treturn randomNumber;\n",
        "}\n",
        "\n",
        "private static bool IsMultipleOf13(int number)\n",
        "{\n",
        "\treturn number % 13 == 0;\n",
        "}"
      ],
      "outputs": []
    },
    {
      "cell_type": "markdown",
      "metadata": {},
      "source": [
        "## Eager implementation would look like this:"
      ]
    },
    {
      "cell_type": "code",
      "execution_count": 1,
      "metadata": {
        "dotnet_interactive": {
          "language": "csharp"
        }
      },
      "source": [
        "//\tThe string list is generated before required\n",
        "_Data = CreateData();\n",
        "\n",
        "//\tRandomize numbers 10 times or until its a multiple of 13\n",
        "int number;\n",
        "for (int i=0; i < 10; i++)\n",
        "{\n",
        "\tnumber = RandomizeNumber();\n",
        "\tif (IsMultipleOf13(number))\n",
        "\t{\n",
        "\t\tbreak;\n",
        "\t}\n",
        "}\n",
        "\n",
        "PrintData(number);"
      ],
      "outputs": [
        {
          "output_type": "execute_result",
          "data": {
            "text/plain": "This is message d\r\n"
          },
          "execution_count": 1,
          "metadata": {}
        }
      ]
    },
    {
      "cell_type": "markdown",
      "metadata": {},
      "source": [
        "## Lazy implementation would look like this:"
      ]
    },
    {
      "cell_type": "code",
      "execution_count": 1,
      "metadata": {
        "dotnet_interactive": {
          "language": "csharp"
        }
      },
      "source": [
        "//\tRandomize numbers 10 times or until its a multiple of 13\n",
        "int number;\n",
        "for (int i=0; i < 10; i++)\n",
        "{\n",
        "\tnumber = RandomizeNumber();\n",
        "\tif (IsMultipleOf13(number))\n",
        "\t{\n",
        "\t\t//\tThe string list is generated when its required\n",
        "\t\t_Data = CreateData();\n",
        "\t\tbreak;\n",
        "\t}\n",
        "}\n",
        "\n",
        "PrintData(number);\n",
        "\n",
        ""
      ],
      "outputs": [
        {
          "output_type": "execute_result",
          "data": {
            "text/plain": "This is message d\r\n"
          },
          "execution_count": 1,
          "metadata": {}
        }
      ]
    }
  ],
  "metadata": {
    "kernelspec": {
      "display_name": ".NET (C#)",
      "language": "C#",
      "name": ".net-csharp"
    },
    "language_info": {
      "file_extension": ".cs",
      "mimetype": "text/x-csharp",
      "name": "C#",
      "pygments_lexer": "csharp",
      "version": "8.0"
    }
  },
  "nbformat": 4,
  "nbformat_minor": 4
}