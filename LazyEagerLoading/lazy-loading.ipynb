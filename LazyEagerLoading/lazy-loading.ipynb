{
  "cells": [
    {
      "cell_type": "markdown",
      "metadata": {},
      "source": [
        "# Lazy Loading\n",
        "## What is it?\n",
        "Lazy loading is the action of loading resources only at the time of need.\n",
        "\n",
        "## Examples\n",
        "#### Back-end projects\n",
        "Pulling database models only when they are needed in the code.\n",
        "\n",
        "#### Front-end projects\n",
        "Facebook loads specific assets (posts for example) only when the user scrolls down to them.\n",
        ""
      ]
    },
    {
      "cell_type": "markdown",
      "metadata": {},
      "source": [
        "## Why and when should I use it?\n",
        "* Reduces initial load time – Lazy loading a webpage reduces page weight, allowing for a quicker page load time.\n",
        "* Bandwidth conservation – Lazy loading conserves bandwidth by delivering content to users only if it’s requested.\n",
        "* System resource conservation – Lazy loading conserves both server and client resources, because only some of the images, JavaScript and other code actually needs to be rendered or executed."
      ]
    }
  ],
  "metadata": {
    "kernelspec": {
      "display_name": ".NET (C#)",
      "language": "C#",
      "name": ".net-csharp"
    },
    "language_info": {
      "file_extension": ".cs",
      "mimetype": "text/x-csharp",
      "name": "C#",
      "pygments_lexer": "csharp",
      "version": "8.0"
    }
  },
  "nbformat": 4,
  "nbformat_minor": 4
}